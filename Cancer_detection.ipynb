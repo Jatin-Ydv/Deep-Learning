{
 "cells": [
  {
   "cell_type": "markdown",
   "metadata": {},
   "source": [
    "##### **SKIN CANCER DETECTION USING CONVOLUTIONAL NEURAL NETWORKS IN DEEP LEARNING**\n",
    "##### BY: *JATIN YADAV*\n",
    "##### UNIVERSITY: *DTU*\n",
    "##### UNIVERSITY_ROLL_NO: 2K21/CO/213"
   ]
  },
  {
   "cell_type": "markdown",
   "metadata": {},
   "source": [
    "##### **IMPORTING KERAS :**"
   ]
  },
  {
   "cell_type": "code",
   "execution_count": 74,
   "metadata": {},
   "outputs": [],
   "source": [
    "import keras\n",
    "from keras import layers,models"
   ]
  },
  {
   "cell_type": "markdown",
   "metadata": {},
   "source": [
    "##### **BUILDING THE CNN MODEL :**"
   ]
  },
  {
   "cell_type": "code",
   "execution_count": 75,
   "metadata": {},
   "outputs": [],
   "source": [
    "model=keras.models.Sequential([\n",
    "    keras.layers.Conv2D(32,(3,3),activation='relu',input_shape=(100,100,3)),\n",
    "    keras.layers.MaxPool2D((2,2)),\n",
    "    keras.layers.Conv2D(64,(3,3),activation='relu'),\n",
    "    keras.layers.MaxPool2D((2,2)),\n",
    "    keras.layers.Conv2D(128,(3,3),activation='relu'),\n",
    "    keras.layers.MaxPool2D((2,2)),\n",
    "    keras.layers.Conv2D(200,(3,3),activation='relu'),\n",
    "    keras.layers.MaxPool2D((2,2)),\n",
    "    keras.layers.Flatten(),\n",
    "    keras.layers.Dense(512,activation='relu'),\n",
    "    keras.layers.Dense(1,activation='sigmoid')\n",
    "])"
   ]
  },
  {
   "cell_type": "code",
   "execution_count": 76,
   "metadata": {},
   "outputs": [
    {
     "name": "stdout",
     "output_type": "stream",
     "text": [
      "Model: \"sequential_2\"\n",
      "_________________________________________________________________\n",
      " Layer (type)                Output Shape              Param #   \n",
      "=================================================================\n",
      " conv2d_8 (Conv2D)           (None, 98, 98, 32)        896       \n",
      "                                                                 \n",
      " max_pooling2d_8 (MaxPoolin  (None, 49, 49, 32)        0         \n",
      " g2D)                                                            \n",
      "                                                                 \n",
      " conv2d_9 (Conv2D)           (None, 47, 47, 64)        18496     \n",
      "                                                                 \n",
      " max_pooling2d_9 (MaxPoolin  (None, 23, 23, 64)        0         \n",
      " g2D)                                                            \n",
      "                                                                 \n",
      " conv2d_10 (Conv2D)          (None, 21, 21, 128)       73856     \n",
      "                                                                 \n",
      " max_pooling2d_10 (MaxPooli  (None, 10, 10, 128)       0         \n",
      " ng2D)                                                           \n",
      "                                                                 \n",
      " conv2d_11 (Conv2D)          (None, 8, 8, 200)         230600    \n",
      "                                                                 \n",
      " max_pooling2d_11 (MaxPooli  (None, 4, 4, 200)         0         \n",
      " ng2D)                                                           \n",
      "                                                                 \n",
      " flatten_2 (Flatten)         (None, 3200)              0         \n",
      "                                                                 \n",
      " dense_4 (Dense)             (None, 512)               1638912   \n",
      "                                                                 \n",
      " dense_5 (Dense)             (None, 1)                 513       \n",
      "                                                                 \n",
      "=================================================================\n",
      "Total params: 1963273 (7.49 MB)\n",
      "Trainable params: 1963273 (7.49 MB)\n",
      "Non-trainable params: 0 (0.00 Byte)\n",
      "_________________________________________________________________\n"
     ]
    }
   ],
   "source": [
    "model.summary()"
   ]
  },
  {
   "cell_type": "markdown",
   "metadata": {},
   "source": [
    "##### **COMPILING THE MODEL :**"
   ]
  },
  {
   "cell_type": "code",
   "execution_count": 77,
   "metadata": {},
   "outputs": [],
   "source": [
    "from keras import optimizers\n",
    "model.compile(\n",
    "    loss='binary_crossentropy',\n",
    "    optimizer=optimizers.RMSprop(learning_rate=1e-4),\n",
    "    metrics=['accuracy']\n",
    ")"
   ]
  },
  {
   "cell_type": "code",
   "execution_count": 78,
   "metadata": {},
   "outputs": [],
   "source": [
    "import os "
   ]
  },
  {
   "cell_type": "markdown",
   "metadata": {},
   "source": [
    "##### *The Dataset for this project has been taken from* **Kaggle**."
   ]
  },
  {
   "cell_type": "code",
   "execution_count": 79,
   "metadata": {},
   "outputs": [],
   "source": [
    "test_dir='C:\\\\Users\\\\DELL\\\\Desktop\\\\cancer\\\\test'\n",
    "val_dir='C:\\\\Users\\\\DELL\\\\Desktop\\\\cancer\\\\validation'\n",
    "train_dir='C:\\\\Users\\\\DELL\\\\Desktop\\\\cancer\\\\train'"
   ]
  },
  {
   "cell_type": "code",
   "execution_count": 80,
   "metadata": {},
   "outputs": [
    {
     "name": "stdout",
     "output_type": "stream",
     "text": [
      "total validation malignant images:  55\n"
     ]
    }
   ],
   "source": [
    "print('total validation malignant images: ',len(os.listdir('C:\\\\Users\\\\DELL\\\\Desktop\\\\cancer\\\\validation\\\\val_malignant')))"
   ]
  },
  {
   "cell_type": "markdown",
   "metadata": {},
   "source": [
    "##### **DATA PROCESSING :**"
   ]
  },
  {
   "cell_type": "code",
   "execution_count": 81,
   "metadata": {},
   "outputs": [
    {
     "name": "stdout",
     "output_type": "stream",
     "text": [
      "Found 148 images belonging to 2 classes.\n",
      "Found 63 images belonging to 2 classes.\n"
     ]
    }
   ],
   "source": [
    "from keras.preprocessing.image import ImageDataGenerator\n",
    "train_datagen=ImageDataGenerator(rescale=1./255)\n",
    "test_datagen=ImageDataGenerator(rescale=1./255)\n",
    "train_gen=train_datagen.flow_from_directory(\n",
    "    train_dir,\n",
    "    target_size=(100,100),\n",
    "    batch_size=20,\n",
    "    class_mode='binary'\n",
    ")\n",
    "val_gen=test_datagen.flow_from_directory(\n",
    "    val_dir,\n",
    "    target_size=(100,100),\n",
    "    batch_size=10,\n",
    "    class_mode='binary',\n",
    ")"
   ]
  },
  {
   "cell_type": "code",
   "execution_count": 82,
   "metadata": {},
   "outputs": [
    {
     "name": "stdout",
     "output_type": "stream",
     "text": [
      "data batch shape:  (20, 100, 100, 3)\n",
      "labels batch shape:  (20,)\n"
     ]
    }
   ],
   "source": [
    "for data_batch,labels_batch in train_gen:\n",
    "    print('data batch shape: ',data_batch.shape)\n",
    "    print('labels batch shape: ',labels_batch.shape)\n",
    "    break #important"
   ]
  },
  {
   "cell_type": "markdown",
   "metadata": {},
   "source": [
    "##### **TRAINING THE CNN MODEL :**"
   ]
  },
  {
   "cell_type": "code",
   "execution_count": 83,
   "metadata": {},
   "outputs": [
    {
     "name": "stdout",
     "output_type": "stream",
     "text": [
      "Epoch 1/4\n"
     ]
    },
    {
     "name": "stdout",
     "output_type": "stream",
     "text": [
      "7/7 [==============================] - 3s 294ms/step - loss: 0.4402 - accuracy: 0.8672 - val_loss: 0.4198 - val_accuracy: 0.8400\n",
      "Epoch 2/4\n",
      "7/7 [==============================] - 2s 224ms/step - loss: 0.2855 - accuracy: 0.9062 - val_loss: 0.3357 - val_accuracy: 0.8800\n",
      "Epoch 3/4\n",
      "7/7 [==============================] - 2s 236ms/step - loss: 0.2970 - accuracy: 0.8984 - val_loss: 0.3333 - val_accuracy: 0.8800\n",
      "Epoch 4/4\n",
      "7/7 [==============================] - 2s 231ms/step - loss: 0.3080 - accuracy: 0.8906 - val_loss: 0.3486 - val_accuracy: 0.8800\n"
     ]
    }
   ],
   "source": [
    "history=model.fit(\n",
    "    train_gen,\n",
    "    steps_per_epoch=7,\n",
    "    epochs=4,\n",
    "    validation_data=val_gen,\n",
    "    validation_steps=5\n",
    ")"
   ]
  },
  {
   "cell_type": "code",
   "execution_count": 93,
   "metadata": {},
   "outputs": [
    {
     "data": {
      "text/plain": [
       "dict_keys(['loss', 'accuracy', 'val_loss', 'val_accuracy'])"
      ]
     },
     "execution_count": 93,
     "metadata": {},
     "output_type": "execute_result"
    }
   ],
   "source": [
    "history_dict=history.history\n",
    "history_dict.keys()"
   ]
  },
  {
   "cell_type": "markdown",
   "metadata": {},
   "source": [
    "##### **VISUALISING THE TRAINING AND VALIDATION LOSS :**"
   ]
  },
  {
   "cell_type": "code",
   "execution_count": 94,
   "metadata": {},
   "outputs": [
    {
     "data": {
      "image/png": "[encoded data removed]",
      "text/plain": [
       "<Figure size 640x480 with 1 Axes>"
      ]
     },
     "metadata": {},
     "output_type": "display_data"
    }
   ],
   "source": [
    "import matplotlib.pyplot as plt\n",
    "loss_val=history_dict['loss']\n",
    "val_loss_val=history_dict['val_loss']\n",
    "epochs=range(1,len(history_dict['accuracy'])+1)\n",
    "plt.plot(epochs,loss_val,'bo',label='training_data')\n",
    "plt.plot(epochs,val_loss_val,'r',label='validation_data')\n",
    "plt.title('training and validation losses')\n",
    "plt.xlabel('epochs')\n",
    "plt.ylabel('loss')\n",
    "plt.legend()\n",
    "plt.show()"
   ]
  },
  {
   "cell_type": "markdown",
   "metadata": {},
   "source": [
    "##### **VISUALISING THE TRAINING AND VALIDATION ACCURACY :**"
   ]
  },
  {
   "cell_type": "code",
   "execution_count": 95,
   "metadata": {},
   "outputs": [
    {
     "data": {
      "image/png": "[encoded data removed]",
      "text/plain": [
       "<Figure size 640x480 with 1 Axes>"
      ]
     },
     "metadata": {},
     "output_type": "display_data"
    }
   ],
   "source": [
    "acc_val=history_dict['accuracy']\n",
    "val_acc_val=history_dict['val_accuracy']\n",
    "plt.plot(epochs,acc_val,'bo',label='training accuracy')\n",
    "plt.plot(epochs,val_acc_val,'r',label='validation accuracy')\n",
    "plt.title('training and validation accuracy')\n",
    "plt.xlabel('epochs')\n",
    "plt.ylabel('accuracy')\n",
    "plt.legend()\n",
    "plt.show()"
   ]
  },
  {
   "cell_type": "markdown",
   "metadata": {},
   "source": [
    "##### **ACCURACY ON TEST DATASET :**"
   ]
  },
  {
   "cell_type": "code",
   "execution_count": 84,
   "metadata": {},
   "outputs": [
    {
     "name": "stdout",
     "output_type": "stream",
     "text": [
      "Found 59 images belonging to 2 classes.\n",
      "10/10 [==============================] - 0s 19ms/step - loss: 0.3060 - accuracy: 0.9200\n",
      "test accuracy:  0.9200000166893005\n"
     ]
    }
   ],
   "source": [
    "test_gen=test_datagen.flow_from_directory(\n",
    "    test_dir,\n",
    "    target_size=(100,100),\n",
    "    batch_size=5,\n",
    "    class_mode='binary'\n",
    ")\n",
    "test_loss,test_acc=model.evaluate(test_gen,steps=10)\n",
    "print('test accuracy: ',test_acc)"
   ]
  },
  {
   "cell_type": "markdown",
   "metadata": {},
   "source": [
    "##### We got the test accuracy of about **92%**.\n",
    "##### *i.e.*, Our model is able to detect the skin cancer correctly in about *92%* of the cases, which is not bad considering that we haven't applied any *Data Augmentation*."
   ]
  },
  {
   "cell_type": "markdown",
   "metadata": {},
   "source": [
    "##### This was a project concerned with detection of skin cancer using Convolutional Neural Networks(CNN) in Deep Learning.\n",
    "##### BY: **JATIN YADAV**"
   ]
  }
 ],
 "metadata": {
  "kernelspec": {
   "display_name": "Python 3",
   "language": "python",
   "name": "python3"
  },
  "language_info": {
   "codemirror_mode": {
    "name": "ipython",
    "version": 3
   },
   "file_extension": ".py",
   "mimetype": "text/x-python",
   "name": "python",
   "nbconvert_exporter": "python",
   "pygments_lexer": "ipython3",
   "version": "3.11.5"
  }
 },
 "nbformat": 4,
 "nbformat_minor": 2
}
