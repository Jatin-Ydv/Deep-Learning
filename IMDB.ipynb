{
 "cells": [
  {
   "cell_type": "markdown",
   "metadata": {},
   "source": [
    "##### **MOVIE REVIEW CLASSIFICATION USING NEURAL NETWORKS IN DEEP LEARNING**\n",
    "##### BY - *JATIN YADAV*\n",
    "##### UNIVERSITY - DTU\n",
    "##### UNIVERSITY ROLL NO. - 2K21/CO/213\n"
   ]
  },
  {
   "cell_type": "code",
   "execution_count": 84,
   "metadata": {},
   "outputs": [],
   "source": [
    "from keras.datasets import imdb\n",
    "(train_data,train_lables),(test_data,test_labels)=imdb.load_data(num_words=10000)"
   ]
  },
  {
   "cell_type": "code",
   "execution_count": 85,
   "metadata": {},
   "outputs": [
    {
     "data": {
      "text/plain": [
       "9999"
      ]
     },
     "execution_count": 85,
     "metadata": {},
     "output_type": "execute_result"
    }
   ],
   "source": [
    "max([max(sequence) for sequence in train_data])"
   ]
  },
  {
   "cell_type": "code",
   "execution_count": 86,
   "metadata": {},
   "outputs": [],
   "source": [
    "word_index=imdb.get_word_index()\n",
    "reverse_word_index=dict(\n",
    "    [(value,key) for(key,value) in word_index.items()])\n",
    "decoded_review=' '.join(\n",
    "    [reverse_word_index.get(i-3,'?') for i in train_data[0]]\n",
    ")"
   ]
  },
  {
   "cell_type": "code",
   "execution_count": 87,
   "metadata": {},
   "outputs": [
    {
     "data": {
      "text/plain": [
       "\"? this film was just brilliant casting location scenery story direction everyone's really suited the part they played and you could just imagine being there robert ? is an amazing actor and now the same being director ? father came from the same scottish island as myself so i loved the fact there was a real connection with this film the witty remarks throughout the film were great it was just brilliant so much that i bought the film as soon as it was released for ? and would recommend it to everyone to watch and the fly fishing was amazing really cried at the end it was so sad and you know what they say if you cry at a film it must have been good and this definitely was also ? to the two little boy's that played the ? of norman and paul they were just brilliant children are often left out of the ? list i think because the stars that play them all grown up are such a big profile for the whole film but these children are amazing and should be praised for what they have done don't you think the whole story was so lovely because it was true and was someone's life after all that was shared with us all\""
      ]
     },
     "execution_count": 87,
     "metadata": {},
     "output_type": "execute_result"
    }
   ],
   "source": [
    "decoded_review"
   ]
  },
  {
   "cell_type": "code",
   "execution_count": 88,
   "metadata": {},
   "outputs": [],
   "source": [
    "import numpy as np\n",
    "def vectorize_sequences(sequences,dimension=10000):\n",
    "    results=np.zeros((len(sequences),dimension))\n",
    "    for i,sequence in enumerate(sequences):\n",
    "        results[i,sequence]=1\n",
    "    return results\n",
    "x_train=vectorize_sequences(train_data)\n",
    "x_test=vectorize_sequences(test_data)"
   ]
  },
  {
   "cell_type": "code",
   "execution_count": 89,
   "metadata": {},
   "outputs": [],
   "source": [
    "x_train[1]\n"
   ]
  },
  {
   "cell_type": "code",
   "execution_count": 90,
   "metadata": {},
   "outputs": [
    {
     "data": {
      "text/plain": [
       "(10000,)"
      ]
     },
     "execution_count": 90,
     "metadata": {},
     "output_type": "execute_result"
    }
   ],
   "source": [
    "x_train[0].shape"
   ]
  },
  {
   "cell_type": "code",
   "execution_count": 91,
   "metadata": {},
   "outputs": [],
   "source": [
    "import keras \n",
    "from keras import layers,models"
   ]
  },
  {
   "cell_type": "markdown",
   "metadata": {},
   "source": [
    "##### **BUILDING THE MODEL :**"
   ]
  },
  {
   "cell_type": "code",
   "execution_count": 92,
   "metadata": {},
   "outputs": [],
   "source": [
    "from keras import activations\n",
    "model1=keras.models.Sequential([\n",
    "    keras.layers.Dense(16,activation=activations.relu,input_shape=(10000,)),\n",
    "    keras.layers.Dense(16,activation=activations.relu),\n",
    "    keras.layers.Dense(1,activation=activations.sigmoid)\n",
    "])"
   ]
  },
  {
   "cell_type": "markdown",
   "metadata": {},
   "source": [
    "##### **COMPILING THE MODEL:**"
   ]
  },
  {
   "cell_type": "code",
   "execution_count": 93,
   "metadata": {},
   "outputs": [],
   "source": [
    "from keras import optimizers,losses,metrics\n",
    "model1.compile(\n",
    "    run_eagerly=True,\n",
    "    optimizer=keras.optimizers.RMSprop(learning_rate=0.01),\n",
    "    loss=losses.binary_crossentropy,\n",
    "    metrics=['accuracy']\n",
    ")"
   ]
  },
  {
   "cell_type": "code",
   "execution_count": 94,
   "metadata": {},
   "outputs": [
    {
     "data": {
      "text/plain": [
       "(25000, 10000)"
      ]
     },
     "execution_count": 94,
     "metadata": {},
     "output_type": "execute_result"
    }
   ],
   "source": [
    "x_train.shape"
   ]
  },
  {
   "cell_type": "code",
   "execution_count": 95,
   "metadata": {},
   "outputs": [],
   "source": [
    "y_train=np.asarray(train_lables).astype('float32')\n",
    "y_test=np.asarray(test_labels).astype('float32')"
   ]
  },
  {
   "cell_type": "markdown",
   "metadata": {},
   "source": [
    "##### Splitting into training and validation datasets:"
   ]
  },
  {
   "cell_type": "code",
   "execution_count": 96,
   "metadata": {},
   "outputs": [],
   "source": [
    "x_val=x_train[:10000]\n",
    "x_train_r=x_train[10000:]\n",
    "y_val=y_train[:10000]\n",
    "y_train_r=y_train[10000:]"
   ]
  },
  {
   "cell_type": "code",
   "execution_count": 97,
   "metadata": {},
   "outputs": [
    {
     "data": {
      "text/plain": [
       "(10000,)"
      ]
     },
     "execution_count": 97,
     "metadata": {},
     "output_type": "execute_result"
    }
   ],
   "source": [
    "x_train_r[0].shape"
   ]
  },
  {
   "cell_type": "markdown",
   "metadata": {},
   "source": [
    "##### **TRAINING THE MODEL:**"
   ]
  },
  {
   "cell_type": "code",
   "execution_count": 98,
   "metadata": {},
   "outputs": [
    {
     "name": "stdout",
     "output_type": "stream",
     "text": [
      "Epoch 1/10\n",
      "30/30 [==============================] - 4s 118ms/step - loss: 0.5467 - accuracy: 0.7240 - val_loss: 0.3259 - val_accuracy: 0.8732\n",
      "Epoch 2/10\n",
      "30/30 [==============================] - 3s 95ms/step - loss: 0.2831 - accuracy: 0.8853 - val_loss: 0.2735 - val_accuracy: 0.8906\n",
      "Epoch 3/10\n",
      "30/30 [==============================] - 2s 74ms/step - loss: 0.2251 - accuracy: 0.9087 - val_loss: 0.2781 - val_accuracy: 0.8865\n",
      "Epoch 4/10\n",
      "30/30 [==============================] - 2s 60ms/step - loss: 0.1599 - accuracy: 0.9353 - val_loss: 0.3256 - val_accuracy: 0.8855\n",
      "Epoch 5/10\n",
      "30/30 [==============================] - 2s 62ms/step - loss: 0.1254 - accuracy: 0.9497 - val_loss: 0.3380 - val_accuracy: 0.8814\n",
      "Epoch 6/10\n",
      "30/30 [==============================] - 2s 63ms/step - loss: 0.1150 - accuracy: 0.9555 - val_loss: 0.3098 - val_accuracy: 0.8798\n",
      "Epoch 7/10\n",
      "30/30 [==============================] - 2s 62ms/step - loss: 0.0848 - accuracy: 0.9706 - val_loss: 0.4266 - val_accuracy: 0.8799\n",
      "Epoch 8/10\n",
      "30/30 [==============================] - 2s 59ms/step - loss: 0.0713 - accuracy: 0.9719 - val_loss: 0.3614 - val_accuracy: 0.8778\n",
      "Epoch 9/10\n",
      "30/30 [==============================] - 2s 50ms/step - loss: 0.0590 - accuracy: 0.9803 - val_loss: 0.4102 - val_accuracy: 0.8760\n",
      "Epoch 10/10\n",
      "30/30 [==============================] - 1s 50ms/step - loss: 0.0253 - accuracy: 0.9929 - val_loss: 0.6967 - val_accuracy: 0.8097\n"
     ]
    }
   ],
   "source": [
    "history=model1.fit(x_train_r,y_train_r,\n",
    "                  epochs=10,\n",
    "                  batch_size=512,\n",
    "                  validation_data=(x_val,y_val)\n",
    "                  )"
   ]
  },
  {
   "cell_type": "code",
   "execution_count": 99,
   "metadata": {},
   "outputs": [
    {
     "data": {
      "text/plain": [
       "dict_keys(['loss', 'accuracy', 'val_loss', 'val_accuracy'])"
      ]
     },
     "execution_count": 99,
     "metadata": {},
     "output_type": "execute_result"
    }
   ],
   "source": [
    "history_dict=history.history\n",
    "history_dict.keys()"
   ]
  },
  {
   "cell_type": "code",
   "execution_count": 100,
   "metadata": {},
   "outputs": [
    {
     "data": {
      "image/png": "[encoded data removed]",
      "text/plain": [
       "<Figure size 640x480 with 1 Axes>"
      ]
     },
     "metadata": {},
     "output_type": "display_data"
    }
   ],
   "source": [
    "import matplotlib.pyplot as plt\n",
    "loss_val=history_dict['loss']\n",
    "val_loss_val=history_dict['val_loss']\n",
    "epochs=range(1,len(history_dict['accuracy'])+1)\n",
    "plt.plot(epochs,loss_val,'bo',label='training_data')\n",
    "plt.plot(epochs,val_loss_val,'r',label='validation_data')\n",
    "plt.title('training and validation losses')\n",
    "plt.xlabel('epochs')\n",
    "plt.ylabel('loss')\n",
    "plt.legend()\n",
    "plt.show()"
   ]
  },
  {
   "cell_type": "code",
   "execution_count": 101,
   "metadata": {},
   "outputs": [
    {
     "data": {
      "image/png": "[encoded data removed]",
      "text/plain": [
       "<Figure size 640x480 with 1 Axes>"
      ]
     },
     "metadata": {},
     "output_type": "display_data"
    }
   ],
   "source": [
    "acc_val=history_dict['accuracy']\n",
    "val_acc_val=history_dict['val_accuracy']\n",
    "plt.plot(epochs,acc_val,'bo',label='training accuracy')\n",
    "plt.plot(epochs,val_acc_val,'r',label='validation accuracy')\n",
    "plt.title('training and validation accuracy')\n",
    "plt.xlabel('epochs')\n",
    "plt.ylabel('accuracy')\n",
    "plt.legend()\n",
    "plt.show()"
   ]
  },
  {
   "cell_type": "code",
   "execution_count": 102,
   "metadata": {},
   "outputs": [
    {
     "name": "stdout",
     "output_type": "stream",
     "text": [
      "Epoch 1/10\n",
      "49/49 [==============================] - 3s 55ms/step - loss: 0.4893 - accuracy: 0.7711\n",
      "Epoch 2/10\n",
      "49/49 [==============================] - 2s 40ms/step - loss: 0.2696 - accuracy: 0.8947\n",
      "Epoch 3/10\n",
      "49/49 [==============================] - 2s 39ms/step - loss: 0.2103 - accuracy: 0.9155\n",
      "Epoch 4/10\n",
      "49/49 [==============================] - 2s 41ms/step - loss: 0.1723 - accuracy: 0.9309\n",
      "Epoch 5/10\n",
      "49/49 [==============================] - 2s 41ms/step - loss: 0.1487 - accuracy: 0.9408\n",
      "Epoch 6/10\n",
      "49/49 [==============================] - 2s 39ms/step - loss: 0.1262 - accuracy: 0.9485\n",
      "Epoch 7/10\n",
      "49/49 [==============================] - 2s 42ms/step - loss: 0.1001 - accuracy: 0.9589\n",
      "Epoch 8/10\n",
      "49/49 [==============================] - 2s 39ms/step - loss: 0.0821 - accuracy: 0.9659\n",
      "Epoch 9/10\n",
      "49/49 [==============================] - 2s 39ms/step - loss: 0.0828 - accuracy: 0.9674\n",
      "Epoch 10/10\n",
      "49/49 [==============================] - 2s 39ms/step - loss: 0.0642 - accuracy: 0.9761\n"
     ]
    },
    {
     "data": {
      "text/plain": [
       "<keras.src.callbacks.History at 0x1f888543e90>"
      ]
     },
     "execution_count": 102,
     "metadata": {},
     "output_type": "execute_result"
    }
   ],
   "source": [
    "model2=keras.models.Sequential([\n",
    "    keras.layers.Dense(16,activation=activations.relu,input_shape=(10000,)),\n",
    "    keras.layers.Dense(16,activation=activations.relu),\n",
    "    keras.layers.Dense(1,activation=activations.sigmoid)\n",
    "])\n",
    "model2.compile(\n",
    "    run_eagerly=True,\n",
    "    optimizer=keras.optimizers.RMSprop(learning_rate=0.01),\n",
    "    loss=losses.binary_crossentropy,\n",
    "    metrics=['accuracy']\n",
    ")\n",
    "model2.fit(x_train,y_train,\n",
    "                  epochs=10,\n",
    "                  batch_size=512\n",
    "                  )"
   ]
  },
  {
   "cell_type": "code",
   "execution_count": 103,
   "metadata": {},
   "outputs": [
    {
     "name": "stdout",
     "output_type": "stream",
     "text": [
      "782/782 [==============================] - 10s 13ms/step - loss: 0.6560 - accuracy: 0.8661\n"
     ]
    }
   ],
   "source": [
    "ans=model2.evaluate(x_test,y_test)"
   ]
  },
  {
   "cell_type": "code",
   "execution_count": 104,
   "metadata": {},
   "outputs": [
    {
     "name": "stdout",
     "output_type": "stream",
     "text": [
      "782/782 [==============================] - 4s 5ms/step\n"
     ]
    }
   ],
   "source": [
    "y_pred=model2.predict(x_test)"
   ]
  },
  {
   "cell_type": "markdown",
   "metadata": {},
   "source": [
    "##### Checking the prediction for a random test sample:"
   ]
  },
  {
   "cell_type": "code",
   "execution_count": 110,
   "metadata": {},
   "outputs": [
    {
     "data": {
      "text/plain": [
       "array([1.], dtype=float32)"
      ]
     },
     "execution_count": 110,
     "metadata": {},
     "output_type": "execute_result"
    }
   ],
   "source": [
    "y_pred[6]"
   ]
  },
  {
   "cell_type": "code",
   "execution_count": 111,
   "metadata": {},
   "outputs": [
    {
     "data": {
      "text/plain": [
       "1.0"
      ]
     },
     "execution_count": 111,
     "metadata": {},
     "output_type": "execute_result"
    }
   ],
   "source": [
    "y_test[6]\n"
   ]
  },
  {
   "cell_type": "code",
   "execution_count": 107,
   "metadata": {},
   "outputs": [
    {
     "data": {
      "text/plain": [
       "array([[0.0030994 ],\n",
       "       [1.        ],\n",
       "       [0.896433  ],\n",
       "       ...,\n",
       "       [0.00427043],\n",
       "       [0.00290873],\n",
       "       [0.9421599 ]], dtype=float32)"
      ]
     },
     "execution_count": 107,
     "metadata": {},
     "output_type": "execute_result"
    }
   ],
   "source": [
    "y_pred"
   ]
  },
  {
   "cell_type": "code",
   "execution_count": 114,
   "metadata": {},
   "outputs": [
    {
     "data": {
      "text/plain": [
       "array([0., 1., 1., ..., 0., 0., 0.], dtype=float32)"
      ]
     },
     "execution_count": 114,
     "metadata": {},
     "output_type": "execute_result"
    }
   ],
   "source": [
    "y_test"
   ]
  },
  {
   "cell_type": "markdown",
   "metadata": {},
   "source": [
    "##### Converting *float* predicted values to **binary** using a *threshold* of 0.5:"
   ]
  },
  {
   "cell_type": "code",
   "execution_count": 117,
   "metadata": {},
   "outputs": [],
   "source": [
    "y_pred_real=[]\n",
    "for res in y_pred:\n",
    "    if res<0.5:y_pred_real.append(0)\n",
    "    else: y_pred_real.append(1)"
   ]
  },
  {
   "cell_type": "code",
   "execution_count": 122,
   "metadata": {},
   "outputs": [],
   "source": [
    "from sklearn.metrics import confusion_matrix\n",
    "cf=confusion_matrix(y_pred_real,y_test)"
   ]
  },
  {
   "cell_type": "markdown",
   "metadata": {},
   "source": [
    "##### CHECKING ACCURACY:"
   ]
  },
  {
   "cell_type": "code",
   "execution_count": 120,
   "metadata": {},
   "outputs": [
    {
     "data": {
      "text/plain": [
       "0.86608"
      ]
     },
     "execution_count": 120,
     "metadata": {},
     "output_type": "execute_result"
    }
   ],
   "source": [
    "(11196+10456)/(11196+10456+2044+1304)"
   ]
  },
  {
   "cell_type": "code",
   "execution_count": 123,
   "metadata": {},
   "outputs": [],
   "source": [
    "import seaborn as sns"
   ]
  },
  {
   "cell_type": "markdown",
   "metadata": {},
   "source": [
    "##### Visualizing the confusion matrix:"
   ]
  },
  {
   "cell_type": "code",
   "execution_count": 127,
   "metadata": {},
   "outputs": [
    {
     "data": {
      "image/png": "[encoded data removed]",
      "text/plain": [
       "<Figure size 640x480 with 2 Axes>"
      ]
     },
     "metadata": {},
     "output_type": "display_data"
    }
   ],
   "source": [
    "sns.heatmap(cf,annot=True)\n",
    "plt.xlabel('predicted')\n",
    "plt.ylabel('actual')\n",
    "plt.show()"
   ]
  },
  {
   "cell_type": "markdown",
   "metadata": {},
   "source": [
    "##### This was a Deep Learning project concerned with the Binary Classification of Movie Reviews on IMDB Dataset.\n",
    "##### BY - **JATIN YADAV**\n"
   ]
  }
 ],
 "metadata": {
  "kernelspec": {
   "display_name": "Python 3",
   "language": "python",
   "name": "python3"
  },
  "language_info": {
   "codemirror_mode": {
    "name": "ipython",
    "version": 3
   },
   "file_extension": ".py",
   "mimetype": "text/x-python",
   "name": "python",
   "nbconvert_exporter": "python",
   "pygments_lexer": "ipython3",
   "version": "3.11.5"
  }
 },
 "nbformat": 4,
 "nbformat_minor": 2
}
